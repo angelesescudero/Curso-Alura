{
  "nbformat": 4,
  "nbformat_minor": 0,
  "metadata": {
    "colab": {
      "provenance": [],
      "include_colab_link": true
    },
    "kernelspec": {
      "name": "python3",
      "display_name": "Python 3"
    },
    "language_info": {
      "name": "python"
    }
  },
  "cells": [
    {
      "cell_type": "markdown",
      "metadata": {
        "id": "view-in-github",
        "colab_type": "text"
      },
      "source": [
        "<a href=\"https://colab.research.google.com/github/angelesescudero/Curso-Alura/blob/main/graficos_de_composicion_y_relacionamiento.ipynb\" target=\"_parent\"><img src=\"https://colab.research.google.com/assets/colab-badge.svg\" alt=\"Open In Colab\"/></a>"
      ]
    },
    {
      "cell_type": "markdown",
      "source": [
        "# **<font color=green>Data Visualization: Gráficos de composición y relacionamiento</font>**\n",
        "---"
      ],
      "metadata": {
        "id": "7D3n0DACbyjf"
      }
    },
    {
      "cell_type": "markdown",
      "source": [
        "# **Clase 1 - Proporción de los datos**\n"
      ],
      "metadata": {
        "id": "Au2nZsz9ezur"
      }
    },
    {
      "cell_type": "markdown",
      "source": [
        "## **1.1 Introducción**\n",
        "\n",
        "---\n",
        "\n",
        "En este curso, vamos a construir un portafolio con los análisis de **dos** bases de datos diferentes, explorando cada una y respondiendo a las preguntas planteadas en torno a sus datos. Todas las bases están en formato CSV y se pueden acceder a través de los links indicados.\n",
        "\n",
        "> **Bases de datos:**\n",
        "\n",
        "1.   Tabla con los PIBs (Producto Interno Bruto) de los estados brasileños en el período de 2002 - 2020\n",
        "\n",
        "2.   Tabla con la puntuación del Saber 11 (Examen de Estado de la Educación Media en Colombia) de las instituciones educativas a nivel nacional.\n",
        "\n",
        "En cada clase, vamos a pasar por una base de datos y realización nuestros análisis de acuerdo con las preguntas que se presenten buscando responderlas por medio de la utilización de recursos visuales (gráficos y elementos visuales)."
      ],
      "metadata": {
        "id": "zozK6sjqX0YH"
      }
    },
    {
      "cell_type": "markdown",
      "source": [
        "### Paleta de colores"
      ],
      "metadata": {
        "id": "YvLE4O2iemTx"
      }
    },
    {
      "cell_type": "markdown",
      "source": [
        "|Azul||||||\n",
        "|------|------|------|------|------|------|\n",
        "| AZUL1 |AZUL2 |AZUL3 |AZUL4 |AZUL5 |AZUL6 |\n",
        "|#174A7E | #4A81BF | #6495ED| #2596be | #94AFC5 | #CDDBF3 |\n",
        "|![adicionar desc](https://github.com/afonsosr2/dataviz-graficos-composicao-relacionamento/blob/638632b27146722cb9589f502a3a444a4eeac717/imagens/paleta_cores/AZUL1.png?raw=true)|![adicionar desc](https://github.com/afonsosr2/dataviz-graficos-composicao-relacionamento/blob/638632b27146722cb9589f502a3a444a4eeac717/imagens/paleta_cores/AZUL2.png?raw=true)|![adicionar desc](https://github.com/afonsosr2/dataviz-graficos-composicao-relacionamento/blob/638632b27146722cb9589f502a3a444a4eeac717/imagens/paleta_cores/AZUL3.png?raw=true)|![adicionar desc](https://github.com/afonsosr2/dataviz-graficos-composicao-relacionamento/blob/638632b27146722cb9589f502a3a444a4eeac717/imagens/paleta_cores/AZUL4.png?raw=true)|![adicionar desc](https://github.com/afonsosr2/dataviz-graficos-composicao-relacionamento/blob/638632b27146722cb9589f502a3a444a4eeac717/imagens/paleta_cores/AZUL5.png?raw=true)|![adicionar desc](https://github.com/afonsosr2/dataviz-graficos-composicao-relacionamento/blob/638632b27146722cb9589f502a3a444a4eeac717/imagens/paleta_cores/AZUL6.png?raw=true) |\n",
        "\n",
        "&nbsp;\n",
        "\n",
        "|Gris||||||\n",
        "|------|------|------|------|------|------|\n",
        "| GRIS1 |GRIS2 |GRIS3 |GRIS4 |GRIS5|BLANCO|\n",
        "|#231F20 | #414040| #555655 | #A6A6A5| #BFBEBE |#FFFFFF|\n",
        "| ![adicionar desc](https://github.com/afonsosr2/dataviz-graficos-composicao-relacionamento/blob/638632b27146722cb9589f502a3a444a4eeac717/imagens/paleta_cores/CINZA1.png?raw=true)  |![adicionar desc](https://github.com/afonsosr2/dataviz-graficos-composicao-relacionamento/blob/638632b27146722cb9589f502a3a444a4eeac717/imagens/paleta_cores/CINZA2.png?raw=true) |![adicionar desc](https://github.com/afonsosr2/dataviz-graficos-composicao-relacionamento/blob/638632b27146722cb9589f502a3a444a4eeac717/imagens/paleta_cores/CINZA3.png?raw=true) |![adicionar desc](https://github.com/afonsosr2/dataviz-graficos-composicao-relacionamento/blob/638632b27146722cb9589f502a3a444a4eeac717/imagens/paleta_cores/CINZA4.png?raw=true) |![adicionar desc](https://github.com/afonsosr2/dataviz-graficos-composicao-relacionamento/blob/638632b27146722cb9589f502a3a444a4eeac717/imagens/paleta_cores/CINZA5.png?raw=true)|![adicionar desc](https://github.com/afonsosr2/dataviz-graficos-composicao-relacionamento/blob/638632b27146722cb9589f502a3a444a4eeac717/imagens/paleta_cores/BRANCO.png?raw=true)|\n",
        "\n",
        "&nbsp;\n",
        "\n",
        "|Rojo|||Verde|||\n",
        "|------|------|------|------|------|------|\n",
        "| ROJO1 |ROJO2 |NARANJA1 | VERDE1 |VERDE2 | VERDE3 |\n",
        "|#C3514E | #E6BAB7 | #F79747|#0C8040 | #9ABB59 |#9ECCB3|\n",
        "| ![adicionar desc](https://github.com/afonsosr2/dataviz-graficos-composicao-relacionamento/blob/638632b27146722cb9589f502a3a444a4eeac717/imagens/paleta_cores//VERMELHO1.png?raw=true) |![adicionar desc](https://github.com/afonsosr2/dataviz-graficos-composicao-relacionamento/blob/638632b27146722cb9589f502a3a444a4eeac717/imagens/paleta_cores/VERMELHO2.png?raw=true)|![adicionar desc](https://github.com/afonsosr2/dataviz-graficos-composicao-relacionamento/blob/638632b27146722cb9589f502a3a444a4eeac717/imagens/paleta_cores/LARANJA1.png?raw=true)| ![adicionar desc](https://github.com/afonsosr2/dataviz-graficos-composicao-relacionamento/blob/638632b27146722cb9589f502a3a444a4eeac717/imagens/paleta_cores/VERDE1.png?raw=true) |![adicionar desc](https://github.com/afonsosr2/dataviz-graficos-composicao-relacionamento/blob/638632b27146722cb9589f502a3a444a4eeac717/imagens/paleta_cores/VERDE2.png?raw=true)|![adicionar desc](https://github.com/afonsosr2/dataviz-graficos-composicao-relacionamento/blob/638632b27146722cb9589f502a3a444a4eeac717/imagens/paleta_cores/VERDE3.png?raw=true)|\n"
      ],
      "metadata": {
        "id": "sAuABmczf3Ev"
      }
    },
    {
      "cell_type": "code",
      "source": [
        "# Definiendo la paleta de colores\n",
        "AZUL1, AZUL2, AZUL3, AZUL4, AZUL5, AZUL6 = '#174A7E', '#4A81BF', \"#6495ED\", '#2596BE', '#94AFC5', '#CDDBF3'\n",
        "GRIS1, GRIS2, GRIS3, GRIS4, GRIS5, BLANCO = '#231F20', '#414040', '#555655', '#A6A6A5', '#BFBEBE', '#FFFFFF'\n",
        "ROJO1, ROJO2, NARANJA1 = '#C3514E',\t'#E6BAB7',\t'#F79747'\n",
        "VERDE1, VERDE2, VERDE3 = '#0C8040',\t'#9ABB59', '#9ECCB3'"
      ],
      "metadata": {
        "id": "_LZKF5MzesCL"
      },
      "execution_count": null,
      "outputs": []
    },
    {
      "cell_type": "markdown",
      "source": [
        "## **1.2 - Presentando la base de datos**\n",
        "\n",
        "---\n",
        "\n"
      ],
      "metadata": {
        "id": "fTAQwVAbUQKM"
      }
    },
    {
      "cell_type": "markdown",
      "source": [
        "### **Situación-problema 1**\n",
        "\n",
        "Como científico de datos, has recibido un conjunto de datos para analizar la composición del PIB en relación a los estados de Brasil durante el período de 2002-2020. Los datos describen los valores del PIB y los valores agregados a él anualmente por sectores como agropecuario, industria, servicios y otros.\n",
        "\n",
        "Aquí, vamos a enfocarnos en investigar la composición de los datos en relación a los estados y regiones y generar algunos comentarios respecto a las preguntas planteadas."
      ],
      "metadata": {
        "id": "qYOQwjMnUQKR"
      }
    },
    {
      "cell_type": "code",
      "source": [],
      "metadata": {
        "id": "3Irjho4jM5wN"
      },
      "execution_count": null,
      "outputs": []
    },
    {
      "cell_type": "code",
      "source": [],
      "metadata": {
        "id": "eWoVg99qM5y-"
      },
      "execution_count": null,
      "outputs": []
    },
    {
      "cell_type": "code",
      "source": [],
      "metadata": {
        "id": "22Rs3hlmM5-l"
      },
      "execution_count": null,
      "outputs": []
    },
    {
      "cell_type": "markdown",
      "source": [
        "Después de visualizar rápidamente los datos que poseemos, vamos a partir hacia los análisis que podemos hacer con estos datos y qué gráficos de composición vamos a utilizar con el fin de presentar este tipo de información.\n",
        "\n",
        "### **Preguntas**\n",
        "\n",
        "1. ¿Cómo está dispuesto el PIB en los estados brasileños en el año de 2020? ¿Es posible notar los estados con mayor y menor participación en el PIB nacional?\n",
        "\n",
        "2. ¿Hubo un cambio significativo en la distribución del PIB por región comparando los valores de 2002 y 2020?\n",
        "\n",
        "3. ¿Cuál es la participación del estado de Minas Gerais en el PIB de todo Brasil en el año de 2020?\n",
        "\n",
        "4. ¿Cómo está distribuido el PIB del estado de Bahía en 2020 separado por impuestos líquidos y los valores agregados brutos de los bienes y servicios producidos?\n",
        "\n",
        "5. ¿Cuál es la evolución anual del PIB del estado de Río de Janeiro entre los años de 2010 a 2020?\n",
        "\n",
        "6. ¿Cómo está distribuido el PIB en los 3 últimos quinquenios (lustro) de los datos (2010, 2015, 2020) en la Región Sur de Brasil divididos por los estados (Paraná, Santa Catarina y Río Grande del Sur)?\n",
        "\n",
        "7. ¿Cómo están distribuidos, en porcentaje, los valores agregados de bienes y servicios descritos en la base de datos en relación a cada región en el año de 2020?\n",
        "\n",
        "8. En el sector agropecuario, ¿cómo están distribuidos sus valores agregados por región dentro del período de la base de datos (2002 - 2020)?\n",
        "\n"
      ],
      "metadata": {
        "id": "wWoSB0AUUQKR"
      }
    },
    {
      "cell_type": "markdown",
      "source": [
        "## **1.3 - Problemas en un gráfico de pizza**\n",
        "\n",
        "---\n",
        "\n"
      ],
      "metadata": {
        "id": "vP-hC2RlZ-2x"
      }
    },
    {
      "cell_type": "markdown",
      "source": [
        "<img src=\"https://raw.githubusercontent.com/ahcamachod/2083-visualizacion-de-datos-composicion-y-relacionamiento/main/pizza.png\" alt=\"inserir alt\" height=\"343\">\n",
        "\n",
        "\n",
        "<font size=2>Fuente: Andrew Abela (Extreme Presentation/Biuwer)</font>\n"
      ],
      "metadata": {
        "id": "OGufZfA4lVnv"
      }
    },
    {
      "cell_type": "markdown",
      "source": [
        "### **Pregunta 1 -** ¿Cómo está dispuesto el PIB en los estados brasileños en el año de 2020? ¿Es posible notar los estados con mayor y menor participación en el PIB nacional?"
      ],
      "metadata": {
        "id": "iSe6OeO-UQKR"
      }
    },
    {
      "cell_type": "markdown",
      "source": [
        "#### Tratando los datos para generar la visualización"
      ],
      "metadata": {
        "id": "Ag4_2fwtUQKR"
      }
    },
    {
      "cell_type": "code",
      "source": [],
      "metadata": {
        "id": "c7nHNfJ_M9ol"
      },
      "execution_count": null,
      "outputs": []
    },
    {
      "cell_type": "markdown",
      "source": [
        "#### Generando el gráfico"
      ],
      "metadata": {
        "id": "fbIAlL3aUQKS"
      }
    },
    {
      "cell_type": "code",
      "source": [],
      "metadata": {
        "id": "VPiDWoyYNB6F"
      },
      "execution_count": null,
      "outputs": []
    },
    {
      "cell_type": "markdown",
      "source": [
        "<font color=green size=4> Conclusiones: </font>\n",
        "\n",
        "---\n",
        "\n",
        "Los gráficos de pizza son ideales para mostrar la relación de las partes de un todo. Pero dependiendo de la cantidad de porciones, puede dificultar la visualización de los datos. Sin embargo, podemos aplicarlo cuando presentamos composiciones de datos a través de pequeñas categorías, entre 2 a 5 porciones, o cuando queremos destacar solo 1 valor frente a varias categorías agrupándolas en una sola.\n",
        "\n",
        "¿Cómo podrías pasar la participación de los estados con menores valores de PIB? ¿Sería a través del gráfico de pizza o de otra visualización?"
      ],
      "metadata": {
        "id": "bAc7JYv3UQKS"
      }
    },
    {
      "cell_type": "markdown",
      "source": [
        "## **1.4 - Uso apropiado del gráfico de pizza**\n",
        "\n",
        "---\n",
        "\n",
        "\n"
      ],
      "metadata": {
        "id": "p1X3B0y3pcQz"
      }
    },
    {
      "cell_type": "markdown",
      "source": [
        "### **Pregunta 2 -** ¿Hubo un cambio significativo en la distribución del PIB por región comparando los valores de 2002 y 2020?"
      ],
      "metadata": {
        "id": "mCZ4irjr8kte"
      }
    },
    {
      "cell_type": "markdown",
      "source": [
        "#### Tratando los datos para generar la visualización"
      ],
      "metadata": {
        "id": "GMqN-xAo8ktf"
      }
    },
    {
      "cell_type": "code",
      "source": [],
      "metadata": {
        "id": "SXCOQaHgNIf9"
      },
      "execution_count": null,
      "outputs": []
    },
    {
      "cell_type": "markdown",
      "source": [
        "#### Generando el gráfico"
      ],
      "metadata": {
        "id": "-WHWfNjJ8ktf"
      }
    },
    {
      "cell_type": "code",
      "source": [],
      "metadata": {
        "id": "lX_3vEeiNKh9"
      },
      "execution_count": null,
      "outputs": []
    },
    {
      "cell_type": "markdown",
      "source": [
        "<font color=green size=4> Conclusiones: </font>\n",
        "\n",
        "---\n",
        "\n",
        "Aquí notamos un uso correcto del gráfico de pizza que trajo 5 porciones en total. Hicimos una comparación entre dos períodos por separado, dado que el gráfico de pizza representa composiciones estáticas.\n",
        "\n",
        "Podemos notar que solo la región Sudeste retrocedió en participación en el PIB en el período que abarca 18 años (2002 - 2020). Es decir, fue posible notar que el PIB fue más distribuido. Podemos percibir este comportamiento sin siquiera necesitar analizar los datos absolutos, solo los relativos.\n",
        "\n",
        "Como sugerencia, podemos probar añadiendo los valores absolutos del PIB de las regiones o hacer este análisis en una región en específico, como por ejemplo, la región Sur de Brasil (solo 3 estados)."
      ],
      "metadata": {
        "id": "OT73-kb78ktf"
      }
    },
    {
      "cell_type": "markdown",
      "source": [
        "## **1.5 - Gráfico de dona**\n",
        "\n",
        "---\n",
        "\n"
      ],
      "metadata": {
        "id": "juIMc2NawuH3"
      }
    },
    {
      "cell_type": "markdown",
      "source": [
        "### **Pregunta 3 -** ¿Cuál es la participación del estado de Minas Gerais en el PIB de todo Brasil en el año de 2020?"
      ],
      "metadata": {
        "id": "VrKVQK1zZfRd"
      }
    },
    {
      "cell_type": "markdown",
      "source": [
        "#### Tratando los datos para generar la visualización"
      ],
      "metadata": {
        "id": "Srsoie6mZfRd"
      }
    },
    {
      "cell_type": "code",
      "source": [],
      "metadata": {
        "id": "t4tjNEnLNbsM"
      },
      "execution_count": null,
      "outputs": []
    },
    {
      "cell_type": "markdown",
      "source": [
        "#### Generando el gráfico"
      ],
      "metadata": {
        "id": "AYq7_n8OZfRd"
      }
    },
    {
      "cell_type": "code",
      "source": [],
      "metadata": {
        "id": "Lyx_ldXrNdIU"
      },
      "execution_count": null,
      "outputs": []
    },
    {
      "cell_type": "markdown",
      "source": [
        "<font color=green size=4> Conclusiones: </font>\n",
        "\n",
        "---\n",
        "\n",
        "El gráfico de dona presenta la mejor forma de utilizar los gráficos de pastel y de dona en una visualización: comparando datos binarios o dicotómicos. Aquí, hicimos la comparación del PIB de Minas Gerais en relación a todo Brasil en el año 2020.\n",
        "\n",
        "Como sugerencia, podemos analizar otro estado en que tengas interés en comparar con todo Brasil o incluso una región en su totalidad en un año dado."
      ],
      "metadata": {
        "id": "NMNebSXmZfRe"
      }
    },
    {
      "cell_type": "markdown",
      "source": [
        "# **Aula 2 - Composición de datos estáticos**"
      ],
      "metadata": {
        "id": "NzC9mzrHhzW3"
      }
    },
    {
      "cell_type": "markdown",
      "source": [
        "<img src=\"https://raw.githubusercontent.com/ahcamachod/2083-visualizacion-de-datos-composicion-y-relacionamiento/main/cascada.png\" alt=\"inserir alt\" height=\"343\">\n",
        "\n",
        "\n",
        "<font size=2>Fuente: Andrew Abela (Extreme Presentation/Biuwer)</font>\n"
      ],
      "metadata": {
        "id": "n1VvSCOeyI4w"
      }
    },
    {
      "cell_type": "markdown",
      "source": [
        "## **2.1 - Gráfico de cascada simple**\n",
        "\n",
        "---\n",
        "\n"
      ],
      "metadata": {
        "id": "nSkpelMIsivz"
      }
    },
    {
      "cell_type": "markdown",
      "source": [
        "### **Pregunta 4 -** ¿Cómo está distribuido el PIB del estado de Bahía en 2020 separado por impuestos líquidos y los valores agregados brutos de los bienes y servicios producidos?"
      ],
      "metadata": {
        "id": "jG3xTIBYscd1"
      }
    },
    {
      "cell_type": "markdown",
      "source": [
        "#### Tratando los datos para generar la visualización"
      ],
      "metadata": {
        "id": "G1Rd-o0uscd2"
      }
    },
    {
      "cell_type": "code",
      "source": [],
      "metadata": {
        "id": "AZ0mCDbANgsE"
      },
      "execution_count": null,
      "outputs": []
    },
    {
      "cell_type": "code",
      "source": [],
      "metadata": {
        "id": "Ii8LY5WXNiYW"
      },
      "execution_count": null,
      "outputs": []
    },
    {
      "cell_type": "code",
      "source": [],
      "metadata": {
        "id": "Gplk0W_kNkFu"
      },
      "execution_count": null,
      "outputs": []
    },
    {
      "cell_type": "markdown",
      "source": [
        "#### Generando el gráfico"
      ],
      "metadata": {
        "id": "gczjrv2Yscd5"
      }
    },
    {
      "cell_type": "code",
      "source": [],
      "metadata": {
        "id": "B96bBwUCNuB8"
      },
      "execution_count": null,
      "outputs": []
    },
    {
      "cell_type": "markdown",
      "source": [
        "<font color=green size=4> Conclusiones: </font>\n",
        "\n",
        "---\n",
        "\n",
        "Un gráfico de cascada es ampliamente utilizado en datos económicos y financieros debido a su naturaleza de representar de manera simple y directa la acumulación y/o sustracción del total en un período determinado o en diferentes categorías.\n",
        "\n",
        "Como sugerencia, podemos analizar estos valores desde otro estado de tu preferencia, o incluso separar los valores agregados por tipo de servicio mostrando la agregación de cada uno.\n",
        "\n",
        "**Observación:** Para ayudar en la comprensión del gráfico, los bienes y servicios finales que componen el PIB se miden al precio al que llegan al consumidor. De esta manera, también se tienen en cuenta los impuestos sobre los productos comercializados."
      ],
      "metadata": {
        "id": "bC-BzT5dscd8"
      }
    },
    {
      "cell_type": "markdown",
      "source": [
        "## **2.2 - Añadiendo más incrementos/disminuciones**\n",
        "\n",
        "---\n",
        "\n"
      ],
      "metadata": {
        "id": "RykpKIOwxwMr"
      }
    },
    {
      "cell_type": "markdown",
      "source": [
        "### **Pregunta 5 -** ¿Cuál es la evolución anual del PIB del estado de Río de Janeiro entre los años de 2010 a 2020?"
      ],
      "metadata": {
        "id": "dYmDjVM0J07p"
      }
    },
    {
      "cell_type": "markdown",
      "source": [
        "#### Tratando los datos para generar la visualización"
      ],
      "metadata": {
        "id": "uLZzjFG5J07q"
      }
    },
    {
      "cell_type": "code",
      "source": [],
      "metadata": {
        "id": "Qdld_fcBOHI0"
      },
      "execution_count": null,
      "outputs": []
    },
    {
      "cell_type": "code",
      "source": [],
      "metadata": {
        "id": "nUU_Wo6GOIOs"
      },
      "execution_count": null,
      "outputs": []
    },
    {
      "cell_type": "code",
      "source": [],
      "metadata": {
        "id": "Ujy50zj3OLrk"
      },
      "execution_count": null,
      "outputs": []
    },
    {
      "cell_type": "code",
      "source": [],
      "metadata": {
        "id": "wDEPPjacOPNj"
      },
      "execution_count": null,
      "outputs": []
    },
    {
      "cell_type": "markdown",
      "source": [
        "#### Generando el gráfico"
      ],
      "metadata": {
        "id": "WyAcgUzyJ07s"
      }
    },
    {
      "cell_type": "code",
      "source": [],
      "metadata": {
        "id": "jRz-evwWOSoM"
      },
      "execution_count": null,
      "outputs": []
    },
    {
      "cell_type": "markdown",
      "source": [
        "<font color=green size=4> Conclusiones: </font>\n",
        "\n",
        "---\n",
        "\n",
        "En este ejemplo, se utilizó el gráfico de cascada para mostrar la evolución del PIB de un estado año tras año, partiendo del valor inicial (año 2010) hasta el final (año 2020, representado por la columna Total). Se pueden observar incrementos y decrementos a lo largo del tiempo, representados por los colores verde y rojo, respectivamente.\n",
        "\n",
        "Como sugerencia, podemos analizar la evolución del PIB en otra región de tú interés."
      ],
      "metadata": {
        "id": "8EZIMX7uJ07u"
      }
    },
    {
      "cell_type": "markdown",
      "source": [
        "# **Aula 3 - Composición con datos dinámicos**"
      ],
      "metadata": {
        "id": "GsmF9DD1zztg"
      }
    },
    {
      "cell_type": "markdown",
      "source": [
        "<img src=\"https://raw.githubusercontent.com/ahcamachod/2083-visualizacion-de-datos-composicion-y-relacionamiento/main/cascada.png\" alt=\"inserir alt\" height=\"343\">\n",
        "\n",
        "\n",
        "<font size=2>Fuente: Andrew Abela (Extreme Presentation/Biuwer)</font>\n"
      ],
      "metadata": {
        "id": "AfhD_Wlfzzth"
      }
    },
    {
      "cell_type": "markdown",
      "source": [
        "## **3.1 - Columnas agrupadas x apiladas**\n",
        "\n",
        "---\n",
        "\n"
      ],
      "metadata": {
        "id": "vF3ePz1ByEiu"
      }
    },
    {
      "cell_type": "markdown",
      "source": [
        "### **Pregunta 6 -** ¿Cómo está distribuido el PIB en los 3 últimos quinquenios (lustro) de los datos (2010, 2015, 2020) en la Región Sur de Brasil divididos por los estados (Paraná, Santa Catarina y Río Grande del Sur)?"
      ],
      "metadata": {
        "id": "HzhhB4-TeRXq"
      }
    },
    {
      "cell_type": "markdown",
      "source": [
        "#### Tratando los datos para generar la visualización"
      ],
      "metadata": {
        "id": "AdhrRcWbeRXr"
      }
    },
    {
      "cell_type": "code",
      "source": [],
      "metadata": {
        "id": "HrqoUVWXOkX8"
      },
      "execution_count": null,
      "outputs": []
    },
    {
      "cell_type": "code",
      "source": [],
      "metadata": {
        "id": "c89yz8sAOmxL"
      },
      "execution_count": null,
      "outputs": []
    },
    {
      "cell_type": "markdown",
      "source": [
        "#### Generando el gráfico"
      ],
      "metadata": {
        "id": "fkEmKm8BKOUN"
      }
    },
    {
      "cell_type": "code",
      "source": [],
      "metadata": {
        "id": "odjfkgzxOsij"
      },
      "execution_count": null,
      "outputs": []
    },
    {
      "cell_type": "markdown",
      "source": [
        "<font color=green size=4> Conclusiones: </font>\n",
        "\n",
        "---\n",
        "\n",
        "En este ejemplo, presentamos las diferencias entre columnas agrupadas y apiladas. La primera refleja los valores absolutos del PIB en cada estado de la Región Sur por quinquenio (lustro), mientras que la segunda representa los valores relativos compilados año a año de la región en su conjunto.\n"
      ],
      "metadata": {
        "id": "_VzWByW5eRXx"
      }
    },
    {
      "cell_type": "markdown",
      "source": [
        "## **3.2 - Gráfico de barras apiladas**\n",
        "\n",
        "---\n",
        "\n"
      ],
      "metadata": {
        "id": "nZRaxGNlZIiC"
      }
    },
    {
      "cell_type": "markdown",
      "source": [
        "### **Pregunta 7 -** ¿Cómo están distribuidos, en porcentaje, los valores agregados de bienes y servicios descritos en la base de datos en relación a cada región en el año de 2020?"
      ],
      "metadata": {
        "id": "lkRGyuqXcOrL"
      }
    },
    {
      "cell_type": "markdown",
      "source": [
        "#### Tratando los datos para generar la visualización"
      ],
      "metadata": {
        "id": "xOXJs9GLcOrM"
      }
    },
    {
      "cell_type": "code",
      "source": [],
      "metadata": {
        "id": "38sGmCUbOwKs"
      },
      "execution_count": null,
      "outputs": []
    },
    {
      "cell_type": "code",
      "source": [],
      "metadata": {
        "id": "1T7hzru3Oxh0"
      },
      "execution_count": null,
      "outputs": []
    },
    {
      "cell_type": "markdown",
      "source": [
        "#### Generando el gráfico"
      ],
      "metadata": {
        "id": "HdQTXUnvKQ9q"
      }
    },
    {
      "cell_type": "code",
      "source": [],
      "metadata": {
        "id": "SBwHS2wrO1Xz"
      },
      "execution_count": null,
      "outputs": []
    },
    {
      "cell_type": "markdown",
      "source": [
        "## **3.3 - Anotaciones y leyenda de los datos**\n",
        "\n",
        "---\n",
        "\n"
      ],
      "metadata": {
        "id": "sNHJI5BWZVgP"
      }
    },
    {
      "cell_type": "markdown",
      "source": [
        "Vamos a trabajar con una función para la escritura de texto utilizando colores diferentes.\n",
        "\n",
        "> (Adaptada de https://github.com/empathy87/storytelling-with-data)\n",
        "\n"
      ],
      "metadata": {
        "id": "cjzmS_G7brRI"
      }
    },
    {
      "cell_type": "code",
      "source": [
        "# Función para escribir texto usando diferentes colores. No existe una fución\n",
        "# nativa para hacerlo. (Adaptado de https://github.com/empathy87/storytelling-with-data)\n",
        "from matplotlib import transforms\n",
        "\n",
        "def texto_a_color(x, y, texto, colores, esp=20, ax=None, **kw):\n",
        "    colores = list(reversed(colores))\n",
        "    t = ax.transData\n",
        "    canvas = ax.figure.canvas\n",
        "\n",
        "    for i, linha in enumerate(reversed(texto.split('\\n'))):\n",
        "        frases = linha.split('||')\n",
        "        for s, cor in zip(frases, colores[i]):\n",
        "            texto = ax.text(x, y, s, color=cor, transform=t, **kw)\n",
        "            texto.draw(canvas.get_renderer())\n",
        "            ex = texto.get_window_extent()\n",
        "            t = transforms.offset_copy(texto._transform, x=ex.width,\n",
        "                                       units='dots')\n",
        "\n",
        "        t = transforms.offset_copy(ax.transData, x=0, y=(i + 1) * esp, units='dots')"
      ],
      "metadata": {
        "id": "Z30pd_ZmdKnG"
      },
      "execution_count": null,
      "outputs": []
    },
    {
      "cell_type": "markdown",
      "source": [
        "#### Generando el gráfico"
      ],
      "metadata": {
        "id": "xQK2aEVSPOGs"
      }
    },
    {
      "cell_type": "code",
      "source": [],
      "metadata": {
        "id": "Nc3RW_JfPD2T"
      },
      "execution_count": null,
      "outputs": []
    },
    {
      "cell_type": "markdown",
      "source": [
        "<font color=green size=4> Conclusiones: </font>\n",
        "\n",
        "---\n",
        "\n",
        "Las barras apiladas son extremadamente útiles para representar datos en períodos cortos y cuando deseamos comparar diferencias absolutas y relativas o solo relativas (como en el ejemplo anterior).\n",
        "\n",
        "Como sugerencia, podemos analizar la composición de los datos en relación con los sectores de una región dada, separados por estados."
      ],
      "metadata": {
        "id": "42OU6GlYcOrQ"
      }
    },
    {
      "cell_type": "markdown",
      "source": [
        "# **Aula 4 - Investigando la variación de los datos**"
      ],
      "metadata": {
        "id": "u4daHAtucvyL"
      }
    },
    {
      "cell_type": "markdown",
      "source": [
        "<img src=\"https://raw.githubusercontent.com/ahcamachod/2083-visualizacion-de-datos-composicion-y-relacionamiento/main/area.png\" alt=\"inserir alt\" height=\"343\">\n",
        "\n",
        "\n",
        "<font size=2>Fuente: Andrew Abela (Extreme Presentation/Biuwer)</font>\n"
      ],
      "metadata": {
        "id": "ci5ZaATmcyee"
      }
    },
    {
      "cell_type": "markdown",
      "source": [
        "## **4.1 - Gráfico de área**\n",
        "\n",
        "---\n",
        "\n"
      ],
      "metadata": {
        "id": "y4nQ5kYxOXl8"
      }
    },
    {
      "cell_type": "markdown",
      "source": [
        "### **Pregunta 8 -** En el sector agropecuario, ¿cómo están distribuidos sus valores agregados por región dentro del período de la base de datos (2002 - 2020)?"
      ],
      "metadata": {
        "id": "YW24pMN0Ki6d"
      }
    },
    {
      "cell_type": "markdown",
      "source": [
        "#### Tratando los datos para generar la visualización"
      ],
      "metadata": {
        "id": "CItml9JhKi6d"
      }
    },
    {
      "cell_type": "code",
      "source": [],
      "metadata": {
        "id": "nu308_u2PXM8"
      },
      "execution_count": null,
      "outputs": []
    },
    {
      "cell_type": "markdown",
      "source": [
        "#### Generando el gráfico"
      ],
      "metadata": {
        "id": "qtk1QwX1Ki6e"
      }
    },
    {
      "cell_type": "code",
      "source": [],
      "metadata": {
        "id": "3fhHe1zAPY0b"
      },
      "execution_count": null,
      "outputs": []
    },
    {
      "cell_type": "markdown",
      "source": [
        "<font color=green size=4> Conclusiones: </font>\n",
        "\n",
        "---\n",
        "\n",
        "Los gráficos de áreas son extremadamente útiles cuando queremos enfatizar la magnitud de los cambios a lo largo del período. Consisten en una unión de varias líneas apiladas rellenas con el color de cada categoría para representar los datos a lo largo del tiempo. En el ejemplo anterior, utilizamos el gráfico de áreas en el que tanto la diferencia absoluta (valores a lo largo del tiempo) como la relativa (grosor entre ellas) son importantes en nuestro análisis.\n",
        "\n",
        "Como sugerencia, podemos analizar la composición de los datos en relación con otros sectores."
      ],
      "metadata": {
        "id": "EFANO8zp-1ir"
      }
    },
    {
      "cell_type": "markdown",
      "source": [
        "## **4.2 - Gráfico de inclinación**\n",
        "\n",
        "---\n",
        "\n"
      ],
      "metadata": {
        "id": "rQaLziqMgXCa"
      }
    },
    {
      "cell_type": "markdown",
      "source": [
        "#### Tratando los datos para generar la visualización"
      ],
      "metadata": {
        "id": "TuC316_JYQL1"
      }
    },
    {
      "cell_type": "code",
      "source": [],
      "metadata": {
        "id": "a3yqVjugPdds"
      },
      "execution_count": null,
      "outputs": []
    },
    {
      "cell_type": "markdown",
      "source": [
        "#### Generando el gráfico"
      ],
      "metadata": {
        "id": "JM5glS-IYS7x"
      }
    },
    {
      "cell_type": "code",
      "source": [],
      "metadata": {
        "id": "3ixGujfkPkbc"
      },
      "execution_count": null,
      "outputs": []
    },
    {
      "cell_type": "markdown",
      "source": [
        "## **4.3 - Mejorando el gráfico**\n",
        "\n",
        "---\n",
        "\n"
      ],
      "metadata": {
        "id": "VbkmUTqsnN20"
      }
    },
    {
      "cell_type": "code",
      "source": [],
      "metadata": {
        "id": "iAur-ZxhPmBN"
      },
      "execution_count": null,
      "outputs": []
    },
    {
      "cell_type": "markdown",
      "source": [
        "<font color=green size=4> Conclusiones: </font>\n",
        "\n",
        "---\n",
        "\n",
        "Los gráficos de inclinación son útiles cuando queremos comparar dos períodos de tiempo, mostrando de manera simple y directa los aumentos y disminuciones relativas entre dos puntos de los datos.\n",
        "\n",
        "Como sugerencia, podemos analizar esta relación desde otros sectores."
      ],
      "metadata": {
        "id": "59101h3-Ki6f"
      }
    },
    {
      "cell_type": "markdown",
      "source": [
        "# **Aula 5 - Relacionando los datos**"
      ],
      "metadata": {
        "id": "HYm_qsOvn6oV"
      }
    },
    {
      "cell_type": "markdown",
      "source": [
        "## **5.1 - Presentando la base de datos**\n",
        "---"
      ],
      "metadata": {
        "id": "wfAWxzoeNWJm"
      }
    },
    {
      "cell_type": "markdown",
      "source": [
        "### **Situación-problema 2**\n",
        "\n",
        "En esta situación problema, has recibido un conjunto de datos para analizar las calificaciones del Saber11, divididas por departamento, de las pruebas realizadas entre 2018 y 2022. Los datos describen el desempeño de los estudiantes en pruebas de Matemáticas, Inglés, Ciencias Naturales, Lectura Crítica y Ciencias Sociales además del puntaje global.\n",
        "\n",
        "El Saber11 se mide en una escala de 0 a 100, por materia, y es una herramienta importante para seguir el desarrollo de la educación básica en el país, permitiendo la evaluación de la efectividad de las políticas públicas en el área y la identificación de las regiones que necesitan mayor atención.\n",
        "\n",
        "Aquí, nos enfocaremos en investigar las calificaciones en las diferentes materias (Matemáticas, Inglés, Ciencias Naturales, Lectura Crítica y Ciencias Sociales), haciendo algunos comentarios sobre las preguntas planteadas."
      ],
      "metadata": {
        "id": "PwFQF88Zn6oW"
      }
    },
    {
      "cell_type": "code",
      "source": [],
      "metadata": {
        "id": "tG-BGn-VPotb"
      },
      "execution_count": null,
      "outputs": []
    },
    {
      "cell_type": "code",
      "source": [],
      "metadata": {
        "id": "ge8VbYZHPp-b"
      },
      "execution_count": null,
      "outputs": []
    },
    {
      "cell_type": "markdown",
      "source": [
        "Después de visualizar rápidamente los datos que tenemos, vamos a pasar a los análisis que podemos realizar con estos datos y qué gráficos de relación vamos a utilizar para presentar este tipo de información.\n",
        "\n",
        "### **Preguntas**\n",
        "\n",
        "1. ¿Cuál es la relación entre los puntajes de Matemáticas y de lectura crítica considerando a estudiantes del estrato 4 en el año 2022? ¿Es positiva, negativa o no están correlacionadas?\n",
        "\n",
        "2. ¿Cuál es la relación entre los puntajes de inglés y el puntaje global por departamento en la región norte de Colombia (Atlántico, Bolivar, Magdalena, Córdoba y Sucre) considerando a las familias que declararon atravesar una situación económica peor en el año 2020? ¿Podemos trazar algún paralelo entre ellas? Si se sabe que el puntaje para acceder automáticamente a una beca es igual o superior a 360 puntos, y si se considera que el nivel avanzado de inglés es B+ (superior a 80 puntos), ¿puedes mostrar este comportamiento con los 4000 primeros registros de este grupo de estudiantes?"
      ],
      "metadata": {
        "id": "6Nvm3SBon6oW"
      }
    },
    {
      "cell_type": "markdown",
      "source": [
        "## **5.2 - Gráfico de dispersión**\n",
        "\n",
        "---\n",
        "\n"
      ],
      "metadata": {
        "id": "w3PGNu6-npgq"
      }
    },
    {
      "cell_type": "markdown",
      "source": [
        "<img src=\"https://raw.githubusercontent.com/ahcamachod/2083-visualizacion-de-datos-composicion-y-relacionamiento/main/relacion.png\" alt=\"inserir alt\" height=\"227\">\n",
        "\n",
        "\n",
        "<font size=2>Fuente: Andrew Abela (Extreme Presentation/Biuwer)</font>\n"
      ],
      "metadata": {
        "id": "MrzgsGqnnaG6"
      }
    },
    {
      "cell_type": "markdown",
      "source": [
        "### **Pregunta 1 -** ¿Cuál es la relación entre los puntajes de Matemáticas y de lectura crítica considerando a estudiantes del estrato 4 en el año 2022? ¿Es positiva, negativa o no están correlacionadas?"
      ],
      "metadata": {
        "id": "umnihXT5UGRk"
      }
    },
    {
      "cell_type": "markdown",
      "source": [
        "#### Visualizando los datos"
      ],
      "metadata": {
        "id": "nrg12u42TFod"
      }
    },
    {
      "cell_type": "code",
      "source": [],
      "metadata": {
        "id": "6YrGXVScP1GD"
      },
      "execution_count": null,
      "outputs": []
    },
    {
      "cell_type": "code",
      "source": [],
      "metadata": {
        "id": "nY0P1AjUP5sr"
      },
      "execution_count": null,
      "outputs": []
    },
    {
      "cell_type": "markdown",
      "source": [
        "#### Generando el gráfico"
      ],
      "metadata": {
        "id": "0HEo-7PzTFof"
      }
    },
    {
      "cell_type": "code",
      "source": [],
      "metadata": {
        "id": "WQP8ESDyP7gb"
      },
      "execution_count": null,
      "outputs": []
    },
    {
      "cell_type": "markdown",
      "source": [
        "<font color=green size=4> Conclusiones: </font>\n",
        "\n",
        "---\n",
        "\n",
        "El gráfico de dispersión se puede utilizar para relacionar datos entre dos variables numéricas de diferentes naturalezas. Esta relación puede ser positiva, negativa o neutra, lineal o no lineal.\n",
        "\n",
        "Aquí trazamos una línea alrededor de los datos que representa la tendencia entre ellos, similar al comportamiento que generamos al trabajar con modelos de regresión lineal."
      ],
      "metadata": {
        "id": "salts8m6TFog"
      }
    },
    {
      "cell_type": "markdown",
      "source": [
        "## **5.3 - Gráfico de dispersión con colores**\n",
        "\n",
        "---\n",
        "\n",
        "\n",
        "\n",
        "\n"
      ],
      "metadata": {
        "id": "XfP_QHVMfM1t"
      }
    },
    {
      "cell_type": "markdown",
      "source": [
        "### **Pregunta 2 -** ¿Cuál es la relación entre los puntajes de inglés y el puntaje global por departamento en la región norte de Colombia (Atlántico, Bolivar, Magdalena, Córdoba y Sucre) considerando a las familias que declararon atravesar una situación económica peor en el año 2020? ¿Podemos trazar algún paralelo entre ellas? Si se sabe que el puntaje para acceder automáticamente a una beca es igual o superior a 360 puntos, y si se considera que el nivel avanzado de inglés es B+ (superior a 80 puntos), ¿puedes mostrar este comportamiento con los 4000 primeros registros de este grupo de estudiantes?"
      ],
      "metadata": {
        "id": "Mgc031b6fM1u"
      }
    },
    {
      "cell_type": "markdown",
      "source": [
        "#### Visualizando los datos"
      ],
      "metadata": {
        "id": "-Vohyw2nfM1u"
      }
    },
    {
      "cell_type": "code",
      "source": [],
      "metadata": {
        "id": "GwT6fPGAP_jL"
      },
      "execution_count": null,
      "outputs": []
    },
    {
      "cell_type": "markdown",
      "source": [
        "#### Generando el gráfico"
      ],
      "metadata": {
        "id": "s6NtJoQNfM1u"
      }
    },
    {
      "cell_type": "code",
      "source": [],
      "metadata": {
        "id": "5l3JfxpeQEEL"
      },
      "execution_count": null,
      "outputs": []
    },
    {
      "cell_type": "markdown",
      "source": [
        "<font color=green size=4> Conclusiones: </font>\n",
        "\n",
        "---\n",
        "\n",
        "El gráfico de dispersión por colores añade una variable categórica al análisis (en nuestro ejemplo, la región).\n",
        "\n",
        "Para comprender un poco más sobre los niveles de proficiencia en el Saber 11, accede a este [link](https://eservicioseducativos.com/blog/interpretar-resultados-saber-11/).\n",
        "\n",
        "Aquí utilizamos dos recursos visuales: el de acercamiento (generado por la delimitación de los puntajes de inglés y global) y el de similitud a través de los colores, representando las categorías de los puntos representados por los departamentos en cuestión."
      ],
      "metadata": {
        "id": "Zc2zDiZKsMwn"
      }
    }
  ]
}